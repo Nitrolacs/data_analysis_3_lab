{
 "cells": [
  {
   "cell_type": "markdown",
   "source": [
    "# Практическая работа №2"
   ],
   "metadata": {
    "collapsed": false
   }
  },
  {
   "cell_type": "markdown",
   "source": [
    "## Импорт необходимых библиотек"
   ],
   "metadata": {
    "collapsed": false
   }
  },
  {
   "cell_type": "code",
   "execution_count": 4,
   "outputs": [],
   "source": [
    "import warnings\n",
    "\n",
    "warnings.filterwarnings('ignore')\n",
    "\n",
    "from sklearn.linear_model import LinearRegression\n",
    "from sklearn.model_selection import train_test_split, GridSearchCV\n",
    "import pandas as pd\n",
    "\n",
    "from math import log\n",
    "import matplotlib.pyplot as plt\n",
    "import seaborn as sb\n",
    "from sklearn.neighbors import KNeighborsRegressor\n",
    "from typing import Union\n",
    "from sklearn.metrics import mean_squared_error, r2_score\n",
    "from sklearn.feature_selection import RFE"
   ],
   "metadata": {
    "collapsed": false
   }
  },
  {
   "cell_type": "code",
   "execution_count": 7,
   "outputs": [
    {
     "data": {
      "text/plain": "     id  Количество.комнат  Студия  Общая.площадь  Этаж  Этажей.в.доме  \\\n0   896                  2       0           46.0     3              5   \n1   399                  2       0           44.6     5              5   \n2  1515                  2       0           53.0     1              9   \n3  1216                  2       0           64.0     4              5   \n4   677                  1       0           33.3     1             10   \n5  1210                  2       0           46.0     3              4   \n6  1485                  1       0           45.0     8              9   \n7  1557                  2       0           54.5     3             14   \n8  1482                  4       0           86.0     1             10   \n9   295                  2       0           42.0     2              5   \n\n   Парковка  Без.ремонта  Дизайнерский  Евроремонт  ...  Одежда..1000  \\\n0         0            0             0           0  ...             2   \n1         0            0             0           0  ...             3   \n2         0            1             0           0  ...             4   \n3         0            0             0           1  ...            31   \n4         0            0             1           0  ...             1   \n5         0            0             0           0  ...            38   \n6         0            1             0           0  ...             8   \n7         0            1             0           0  ...            11   \n8         0            1             0           0  ...            16   \n9         0            0             0           0  ...            22   \n\n   Супер3кет.1000  Кинотеатр.1000  Кафе.1000  АЗС.1000  Детский.сад.1000  \\\n0               3               0          7         3                13   \n1               5               0          7         3                11   \n2              11               0          5         3                17   \n3               5               1         55         2                10   \n4               3               0          2         3                 9   \n5               6               2         15         0                27   \n6               9               0          8         1                33   \n7               4               1         12         4                15   \n8              11               0          9         2                42   \n9               5               0         10         1                13   \n\n   Бар.1000  Банк.1000  Аптека.1000       Цена  \n0         2          7           18  2350000.0  \n1         1          4           11  1799000.0  \n2         3          7           15  2800000.0  \n3        28         32           17  3970000.0  \n4         0          3            6  1880000.0  \n5         9         11           25  2400000.0  \n6         4          4           15  2870000.0  \n7         2         14           14  2700000.0  \n8        12         10           30  3200000.0  \n9         2         13           17  2560000.0  \n\n[10 rows x 48 columns]",
      "text/html": "<div>\n<style scoped>\n    .dataframe tbody tr th:only-of-type {\n        vertical-align: middle;\n    }\n\n    .dataframe tbody tr th {\n        vertical-align: top;\n    }\n\n    .dataframe thead th {\n        text-align: right;\n    }\n</style>\n<table border=\"1\" class=\"dataframe\">\n  <thead>\n    <tr style=\"text-align: right;\">\n      <th></th>\n      <th>id</th>\n      <th>Количество.комнат</th>\n      <th>Студия</th>\n      <th>Общая.площадь</th>\n      <th>Этаж</th>\n      <th>Этажей.в.доме</th>\n      <th>Парковка</th>\n      <th>Без.ремонта</th>\n      <th>Дизайнерский</th>\n      <th>Евроремонт</th>\n      <th>...</th>\n      <th>Одежда..1000</th>\n      <th>Супер3кет.1000</th>\n      <th>Кинотеатр.1000</th>\n      <th>Кафе.1000</th>\n      <th>АЗС.1000</th>\n      <th>Детский.сад.1000</th>\n      <th>Бар.1000</th>\n      <th>Банк.1000</th>\n      <th>Аптека.1000</th>\n      <th>Цена</th>\n    </tr>\n  </thead>\n  <tbody>\n    <tr>\n      <th>0</th>\n      <td>896</td>\n      <td>2</td>\n      <td>0</td>\n      <td>46.0</td>\n      <td>3</td>\n      <td>5</td>\n      <td>0</td>\n      <td>0</td>\n      <td>0</td>\n      <td>0</td>\n      <td>...</td>\n      <td>2</td>\n      <td>3</td>\n      <td>0</td>\n      <td>7</td>\n      <td>3</td>\n      <td>13</td>\n      <td>2</td>\n      <td>7</td>\n      <td>18</td>\n      <td>2350000.0</td>\n    </tr>\n    <tr>\n      <th>1</th>\n      <td>399</td>\n      <td>2</td>\n      <td>0</td>\n      <td>44.6</td>\n      <td>5</td>\n      <td>5</td>\n      <td>0</td>\n      <td>0</td>\n      <td>0</td>\n      <td>0</td>\n      <td>...</td>\n      <td>3</td>\n      <td>5</td>\n      <td>0</td>\n      <td>7</td>\n      <td>3</td>\n      <td>11</td>\n      <td>1</td>\n      <td>4</td>\n      <td>11</td>\n      <td>1799000.0</td>\n    </tr>\n    <tr>\n      <th>2</th>\n      <td>1515</td>\n      <td>2</td>\n      <td>0</td>\n      <td>53.0</td>\n      <td>1</td>\n      <td>9</td>\n      <td>0</td>\n      <td>1</td>\n      <td>0</td>\n      <td>0</td>\n      <td>...</td>\n      <td>4</td>\n      <td>11</td>\n      <td>0</td>\n      <td>5</td>\n      <td>3</td>\n      <td>17</td>\n      <td>3</td>\n      <td>7</td>\n      <td>15</td>\n      <td>2800000.0</td>\n    </tr>\n    <tr>\n      <th>3</th>\n      <td>1216</td>\n      <td>2</td>\n      <td>0</td>\n      <td>64.0</td>\n      <td>4</td>\n      <td>5</td>\n      <td>0</td>\n      <td>0</td>\n      <td>0</td>\n      <td>1</td>\n      <td>...</td>\n      <td>31</td>\n      <td>5</td>\n      <td>1</td>\n      <td>55</td>\n      <td>2</td>\n      <td>10</td>\n      <td>28</td>\n      <td>32</td>\n      <td>17</td>\n      <td>3970000.0</td>\n    </tr>\n    <tr>\n      <th>4</th>\n      <td>677</td>\n      <td>1</td>\n      <td>0</td>\n      <td>33.3</td>\n      <td>1</td>\n      <td>10</td>\n      <td>0</td>\n      <td>0</td>\n      <td>1</td>\n      <td>0</td>\n      <td>...</td>\n      <td>1</td>\n      <td>3</td>\n      <td>0</td>\n      <td>2</td>\n      <td>3</td>\n      <td>9</td>\n      <td>0</td>\n      <td>3</td>\n      <td>6</td>\n      <td>1880000.0</td>\n    </tr>\n    <tr>\n      <th>5</th>\n      <td>1210</td>\n      <td>2</td>\n      <td>0</td>\n      <td>46.0</td>\n      <td>3</td>\n      <td>4</td>\n      <td>0</td>\n      <td>0</td>\n      <td>0</td>\n      <td>0</td>\n      <td>...</td>\n      <td>38</td>\n      <td>6</td>\n      <td>2</td>\n      <td>15</td>\n      <td>0</td>\n      <td>27</td>\n      <td>9</td>\n      <td>11</td>\n      <td>25</td>\n      <td>2400000.0</td>\n    </tr>\n    <tr>\n      <th>6</th>\n      <td>1485</td>\n      <td>1</td>\n      <td>0</td>\n      <td>45.0</td>\n      <td>8</td>\n      <td>9</td>\n      <td>0</td>\n      <td>1</td>\n      <td>0</td>\n      <td>0</td>\n      <td>...</td>\n      <td>8</td>\n      <td>9</td>\n      <td>0</td>\n      <td>8</td>\n      <td>1</td>\n      <td>33</td>\n      <td>4</td>\n      <td>4</td>\n      <td>15</td>\n      <td>2870000.0</td>\n    </tr>\n    <tr>\n      <th>7</th>\n      <td>1557</td>\n      <td>2</td>\n      <td>0</td>\n      <td>54.5</td>\n      <td>3</td>\n      <td>14</td>\n      <td>0</td>\n      <td>1</td>\n      <td>0</td>\n      <td>0</td>\n      <td>...</td>\n      <td>11</td>\n      <td>4</td>\n      <td>1</td>\n      <td>12</td>\n      <td>4</td>\n      <td>15</td>\n      <td>2</td>\n      <td>14</td>\n      <td>14</td>\n      <td>2700000.0</td>\n    </tr>\n    <tr>\n      <th>8</th>\n      <td>1482</td>\n      <td>4</td>\n      <td>0</td>\n      <td>86.0</td>\n      <td>1</td>\n      <td>10</td>\n      <td>0</td>\n      <td>1</td>\n      <td>0</td>\n      <td>0</td>\n      <td>...</td>\n      <td>16</td>\n      <td>11</td>\n      <td>0</td>\n      <td>9</td>\n      <td>2</td>\n      <td>42</td>\n      <td>12</td>\n      <td>10</td>\n      <td>30</td>\n      <td>3200000.0</td>\n    </tr>\n    <tr>\n      <th>9</th>\n      <td>295</td>\n      <td>2</td>\n      <td>0</td>\n      <td>42.0</td>\n      <td>2</td>\n      <td>5</td>\n      <td>0</td>\n      <td>0</td>\n      <td>0</td>\n      <td>0</td>\n      <td>...</td>\n      <td>22</td>\n      <td>5</td>\n      <td>0</td>\n      <td>10</td>\n      <td>1</td>\n      <td>13</td>\n      <td>2</td>\n      <td>13</td>\n      <td>17</td>\n      <td>2560000.0</td>\n    </tr>\n  </tbody>\n</table>\n<p>10 rows × 48 columns</p>\n</div>"
     },
     "execution_count": 7,
     "metadata": {},
     "output_type": "execute_result"
    }
   ],
   "source": [
    "dataframe_train = pd.read_csv(\"../data/train.csv\")\n",
    "dataframe_test = pd.read_csv(\"../data/test.csv\")\n",
    "dataframe_train.head(10)"
   ],
   "metadata": {
    "collapsed": false
   }
  },
  {
   "cell_type": "markdown",
   "source": [
    "Выведем информацию о таблицах."
   ],
   "metadata": {
    "collapsed": false
   }
  },
  {
   "cell_type": "code",
   "execution_count": 8,
   "outputs": [
    {
     "name": "stdout",
     "output_type": "stream",
     "text": [
      "<class 'pandas.core.frame.DataFrame'>\n",
      "RangeIndex: 808 entries, 0 to 807\n",
      "Data columns (total 48 columns):\n",
      " #   Column                     Non-Null Count  Dtype  \n",
      "---  ------                     --------------  -----  \n",
      " 0   id                         808 non-null    int64  \n",
      " 1   Количество.комнат          808 non-null    int64  \n",
      " 2   Студия                     808 non-null    int64  \n",
      " 3   Общая.площадь              808 non-null    float64\n",
      " 4   Этаж                       808 non-null    int64  \n",
      " 5   Этажей.в.доме              808 non-null    int64  \n",
      " 6   Парковка                   808 non-null    int64  \n",
      " 7   Без.ремонта                808 non-null    int64  \n",
      " 8   Дизайнерский               808 non-null    int64  \n",
      " 9   Евроремонт                 808 non-null    int64  \n",
      " 10  Косметический              808 non-null    int64  \n",
      " 11  Балкон                     808 non-null    int64  \n",
      " 12  Лоджия                     808 non-null    int64  \n",
      " 13  Совмещенный.санузел        808 non-null    int64  \n",
      " 14  Раздельный.санузел         808 non-null    int64  \n",
      " 15  Лифт                       808 non-null    int64  \n",
      " 16  Грузовой.лифт              808 non-null    int64  \n",
      " 17  Мусоропровод               808 non-null    int64  \n",
      " 18  Год.постройки              808 non-null    int64  \n",
      " 19  Аварийный                  808 non-null    int64  \n",
      " 20  Железобетонные.перекрытия  808 non-null    int64  \n",
      " 21  Смешанные.перекрытия       808 non-null    int64  \n",
      " 22  Деревянные.перекрытия      808 non-null    int64  \n",
      " 23  Иные.перекрытия            808 non-null    int64  \n",
      " 24  Панельные.стены            808 non-null    int64  \n",
      " 25  Блочные.стены              808 non-null    int64  \n",
      " 26  Деревянные.стены           808 non-null    int64  \n",
      " 27  Кирпичные.стены            808 non-null    int64  \n",
      " 28  Монолитные.стены           808 non-null    int64  \n",
      " 29  Смешанные.стены            808 non-null    int64  \n",
      " 30  Школа.1000                 808 non-null    int64  \n",
      " 31  ВУЗ.1000                   808 non-null    int64  \n",
      " 32  ТЦ.1000                    808 non-null    int64  \n",
      " 33  Стоматология.1000          808 non-null    int64  \n",
      " 34  Почта.1000                 808 non-null    int64  \n",
      " 35  Поликлиника.1000           808 non-null    int64  \n",
      " 36  Парк.1000                  808 non-null    int64  \n",
      " 37  Остановка.1000             808 non-null    int64  \n",
      " 38  Одежда..1000               808 non-null    int64  \n",
      " 39  Супер3кет.1000             808 non-null    int64  \n",
      " 40  Кинотеатр.1000             808 non-null    int64  \n",
      " 41  Кафе.1000                  808 non-null    int64  \n",
      " 42  АЗС.1000                   808 non-null    int64  \n",
      " 43  Детский.сад.1000           808 non-null    int64  \n",
      " 44  Бар.1000                   808 non-null    int64  \n",
      " 45  Банк.1000                  808 non-null    int64  \n",
      " 46  Аптека.1000                808 non-null    int64  \n",
      " 47  Цена                       808 non-null    float64\n",
      "dtypes: float64(2), int64(46)\n",
      "memory usage: 303.1 KB\n",
      "<class 'pandas.core.frame.DataFrame'>\n",
      "RangeIndex: 783 entries, 0 to 782\n",
      "Data columns (total 47 columns):\n",
      " #   Column                     Non-Null Count  Dtype  \n",
      "---  ------                     --------------  -----  \n",
      " 0   id                         783 non-null    int64  \n",
      " 1   Количество.комнат          783 non-null    int64  \n",
      " 2   Студия                     783 non-null    int64  \n",
      " 3   Общая.площадь              783 non-null    float64\n",
      " 4   Этаж                       783 non-null    int64  \n",
      " 5   Этажей.в.доме              783 non-null    int64  \n",
      " 6   Парковка                   783 non-null    int64  \n",
      " 7   Без.ремонта                783 non-null    int64  \n",
      " 8   Дизайнерский               783 non-null    int64  \n",
      " 9   Евроремонт                 783 non-null    int64  \n",
      " 10  Косметический              783 non-null    int64  \n",
      " 11  Балкон                     783 non-null    int64  \n",
      " 12  Лоджия                     783 non-null    int64  \n",
      " 13  Совмещенный.санузел        783 non-null    int64  \n",
      " 14  Раздельный.санузел         783 non-null    int64  \n",
      " 15  Лифт                       783 non-null    int64  \n",
      " 16  Грузовой.лифт              783 non-null    int64  \n",
      " 17  Мусоропровод               783 non-null    int64  \n",
      " 18  Год.постройки              783 non-null    int64  \n",
      " 19  Аварийный                  783 non-null    int64  \n",
      " 20  Железобетонные.перекрытия  783 non-null    int64  \n",
      " 21  Смешанные.перекрытия       783 non-null    int64  \n",
      " 22  Деревянные.перекрытия      783 non-null    int64  \n",
      " 23  Иные.перекрытия            783 non-null    int64  \n",
      " 24  Панельные.стены            783 non-null    int64  \n",
      " 25  Блочные.стены              783 non-null    int64  \n",
      " 26  Деревянные.стены           783 non-null    int64  \n",
      " 27  Кирпичные.стены            783 non-null    int64  \n",
      " 28  Монолитные.стены           783 non-null    int64  \n",
      " 29  Смешанные.стены            783 non-null    int64  \n",
      " 30  Школа.1000                 783 non-null    int64  \n",
      " 31  ВУЗ.1000                   783 non-null    int64  \n",
      " 32  ТЦ.1000                    783 non-null    int64  \n",
      " 33  Стоматология.1000          783 non-null    int64  \n",
      " 34  Почта.1000                 783 non-null    int64  \n",
      " 35  Поликлиника.1000           783 non-null    int64  \n",
      " 36  Парк.1000                  783 non-null    int64  \n",
      " 37  Остановка.1000             783 non-null    int64  \n",
      " 38  Одежда..1000               783 non-null    int64  \n",
      " 39  Супер3кет.1000             783 non-null    int64  \n",
      " 40  Кинотеатр.1000             783 non-null    int64  \n",
      " 41  Кафе.1000                  783 non-null    int64  \n",
      " 42  АЗС.1000                   783 non-null    int64  \n",
      " 43  Детский.сад.1000           783 non-null    int64  \n",
      " 44  Бар.1000                   783 non-null    int64  \n",
      " 45  Банк.1000                  783 non-null    int64  \n",
      " 46  Аптека.1000                783 non-null    int64  \n",
      "dtypes: float64(1), int64(46)\n",
      "memory usage: 287.6 KB\n"
     ]
    }
   ],
   "source": [
    "dataframe_train.info()\n",
    "dataframe_test.info()"
   ],
   "metadata": {
    "collapsed": false
   }
  },
  {
   "cell_type": "code",
   "execution_count": 12,
   "outputs": [
    {
     "data": {
      "text/plain": "id                           0\nКоличество.комнат            0\nСтудия                       0\nОбщая.площадь                0\nЭтаж                         0\nЭтажей.в.доме                0\nПарковка                     0\nБез.ремонта                  0\nДизайнерский                 0\nЕвроремонт                   0\nКосметический                0\nБалкон                       0\nЛоджия                       0\nСовмещенный.санузел          0\nРаздельный.санузел           0\nЛифт                         0\nГрузовой.лифт                0\nМусоропровод                 0\nГод.постройки                0\nАварийный                    0\nЖелезобетонные.перекрытия    0\nСмешанные.перекрытия         0\nДеревянные.перекрытия        0\nИные.перекрытия              0\nПанельные.стены              0\nБлочные.стены                0\nДеревянные.стены             0\nКирпичные.стены              0\nМонолитные.стены             0\nСмешанные.стены              0\nШкола.1000                   0\nВУЗ.1000                     0\nТЦ.1000                      0\nСтоматология.1000            0\nПочта.1000                   0\nПоликлиника.1000             0\nПарк.1000                    0\nОстановка.1000               0\nОдежда..1000                 0\nСупер3кет.1000               0\nКинотеатр.1000               0\nКафе.1000                    0\nАЗС.1000                     0\nДетский.сад.1000             0\nБар.1000                     0\nБанк.1000                    0\nАптека.1000                  0\nЦена                         0\ndtype: int64"
     },
     "execution_count": 12,
     "metadata": {},
     "output_type": "execute_result"
    }
   ],
   "source": [
    "dataframe_train.isnull().sum()"
   ],
   "metadata": {
    "collapsed": false
   }
  },
  {
   "cell_type": "code",
   "execution_count": 13,
   "outputs": [
    {
     "data": {
      "text/plain": "id                           0\nКоличество.комнат            0\nСтудия                       0\nОбщая.площадь                0\nЭтаж                         0\nЭтажей.в.доме                0\nПарковка                     0\nБез.ремонта                  0\nДизайнерский                 0\nЕвроремонт                   0\nКосметический                0\nБалкон                       0\nЛоджия                       0\nСовмещенный.санузел          0\nРаздельный.санузел           0\nЛифт                         0\nГрузовой.лифт                0\nМусоропровод                 0\nГод.постройки                0\nАварийный                    0\nЖелезобетонные.перекрытия    0\nСмешанные.перекрытия         0\nДеревянные.перекрытия        0\nИные.перекрытия              0\nПанельные.стены              0\nБлочные.стены                0\nДеревянные.стены             0\nКирпичные.стены              0\nМонолитные.стены             0\nСмешанные.стены              0\nШкола.1000                   0\nВУЗ.1000                     0\nТЦ.1000                      0\nСтоматология.1000            0\nПочта.1000                   0\nПоликлиника.1000             0\nПарк.1000                    0\nОстановка.1000               0\nОдежда..1000                 0\nСупер3кет.1000               0\nКинотеатр.1000               0\nКафе.1000                    0\nАЗС.1000                     0\nДетский.сад.1000             0\nБар.1000                     0\nБанк.1000                    0\nАптека.1000                  0\ndtype: int64"
     },
     "execution_count": 13,
     "metadata": {},
     "output_type": "execute_result"
    }
   ],
   "source": [
    "dataframe_test.isnull().sum()"
   ],
   "metadata": {
    "collapsed": false
   }
  },
  {
   "cell_type": "markdown",
   "source": [
    "Так как признак id не играет важной роли в предсказании, то можем удалить его из датафреймов."
   ],
   "metadata": {
    "collapsed": false
   }
  },
  {
   "cell_type": "code",
   "execution_count": 14,
   "outputs": [],
   "source": [
    "dataframe_train.drop(\"id\", axis=1, inplace=True)\n",
    "test_ids = dataframe_test[\"id\"]"
   ],
   "metadata": {
    "collapsed": false
   }
  },
  {
   "cell_type": "markdown",
   "source": [
    "Создадим тепловую карту из корреляционной матрицы (Корреляционная матрица - это квадратная таблица, которая показывает коэффициенты корреляции между несколькими переменными. Коэффициент корреляции - это мера линейной связи между двумя переменными, которая может принимать значения от -1 до 1. Корреляционная матрица позволяет видеть закономерности и взаимосвязи между переменными). Тепловая карта - это вид графика, который показывает данные в виде цветных прямоугольных плиток."
   ],
   "metadata": {
    "collapsed": false
   }
  },
  {
   "cell_type": "code",
   "execution_count": 17,
   "outputs": [
    {
     "ename": "AttributeError",
     "evalue": "QuadMesh.set() got an unexpected keyword argument 'aspect'",
     "output_type": "error",
     "traceback": [
      "\u001B[1;31m---------------------------------------------------------------------------\u001B[0m",
      "\u001B[1;31mAttributeError\u001B[0m                            Traceback (most recent call last)",
      "Cell \u001B[1;32mIn[17], line 2\u001B[0m\n\u001B[0;32m      1\u001B[0m \u001B[38;5;66;03m# Создаем тепловую карту с новой цветовой схемой и аргументом aspect\u001B[39;00m\n\u001B[1;32m----> 2\u001B[0m \u001B[43msb\u001B[49m\u001B[38;5;241;43m.\u001B[39;49m\u001B[43mheatmap\u001B[49m\u001B[43m(\u001B[49m\u001B[43mdataframe_train\u001B[49m\u001B[38;5;241;43m.\u001B[39;49m\u001B[43mcorr\u001B[49m\u001B[43m(\u001B[49m\u001B[43m)\u001B[49m\u001B[43m,\u001B[49m\u001B[43m \u001B[49m\u001B[43mcmap\u001B[49m\u001B[38;5;241;43m=\u001B[39;49m\u001B[38;5;124;43m'\u001B[39;49m\u001B[38;5;124;43mcoolwarm\u001B[39;49m\u001B[38;5;124;43m'\u001B[39;49m\u001B[43m,\u001B[49m\u001B[43m \u001B[49m\u001B[43mlinewidths\u001B[49m\u001B[38;5;241;43m=\u001B[39;49m\u001B[38;5;241;43m0.2\u001B[39;49m\u001B[43m,\u001B[49m\u001B[43m \u001B[49m\u001B[43mfmt\u001B[49m\u001B[38;5;241;43m=\u001B[39;49m\u001B[38;5;124;43m'\u001B[39;49m\u001B[38;5;124;43m.1g\u001B[39;49m\u001B[38;5;124;43m'\u001B[39;49m\u001B[43m,\u001B[49m\u001B[43m \u001B[49m\u001B[43maspect\u001B[49m\u001B[38;5;241;43m=\u001B[39;49m\u001B[38;5;124;43m'\u001B[39;49m\u001B[38;5;124;43mauto\u001B[39;49m\u001B[38;5;124;43m'\u001B[39;49m\u001B[43m)\u001B[49m\n\u001B[0;32m      4\u001B[0m \u001B[38;5;66;03m# Добавляем заголовок и подписи осей\u001B[39;00m\n\u001B[0;32m      5\u001B[0m plt\u001B[38;5;241m.\u001B[39mtitle(\u001B[38;5;124m'\u001B[39m\u001B[38;5;124mКорреляция между признаками dataframe_train\u001B[39m\u001B[38;5;124m'\u001B[39m)\n",
      "File \u001B[1;32m~\\anaconda3\\envs\\3 lab\\lib\\site-packages\\seaborn\\matrix.py:459\u001B[0m, in \u001B[0;36mheatmap\u001B[1;34m(data, vmin, vmax, cmap, center, robust, annot, fmt, annot_kws, linewidths, linecolor, cbar, cbar_kws, cbar_ax, square, xticklabels, yticklabels, mask, ax, **kwargs)\u001B[0m\n\u001B[0;32m    457\u001B[0m \u001B[38;5;28;01mif\u001B[39;00m square:\n\u001B[0;32m    458\u001B[0m     ax\u001B[38;5;241m.\u001B[39mset_aspect(\u001B[38;5;124m\"\u001B[39m\u001B[38;5;124mequal\u001B[39m\u001B[38;5;124m\"\u001B[39m)\n\u001B[1;32m--> 459\u001B[0m \u001B[43mplotter\u001B[49m\u001B[38;5;241;43m.\u001B[39;49m\u001B[43mplot\u001B[49m\u001B[43m(\u001B[49m\u001B[43max\u001B[49m\u001B[43m,\u001B[49m\u001B[43m \u001B[49m\u001B[43mcbar_ax\u001B[49m\u001B[43m,\u001B[49m\u001B[43m \u001B[49m\u001B[43mkwargs\u001B[49m\u001B[43m)\u001B[49m\n\u001B[0;32m    460\u001B[0m \u001B[38;5;28;01mreturn\u001B[39;00m ax\n",
      "File \u001B[1;32m~\\anaconda3\\envs\\3 lab\\lib\\site-packages\\seaborn\\matrix.py:306\u001B[0m, in \u001B[0;36m_HeatMapper.plot\u001B[1;34m(self, ax, cax, kws)\u001B[0m\n\u001B[0;32m    303\u001B[0m     kws\u001B[38;5;241m.\u001B[39msetdefault(\u001B[38;5;124m\"\u001B[39m\u001B[38;5;124mvmax\u001B[39m\u001B[38;5;124m\"\u001B[39m, \u001B[38;5;28mself\u001B[39m\u001B[38;5;241m.\u001B[39mvmax)\n\u001B[0;32m    305\u001B[0m \u001B[38;5;66;03m# Draw the heatmap\u001B[39;00m\n\u001B[1;32m--> 306\u001B[0m mesh \u001B[38;5;241m=\u001B[39m \u001B[43max\u001B[49m\u001B[38;5;241;43m.\u001B[39;49m\u001B[43mpcolormesh\u001B[49m\u001B[43m(\u001B[49m\u001B[38;5;28;43mself\u001B[39;49m\u001B[38;5;241;43m.\u001B[39;49m\u001B[43mplot_data\u001B[49m\u001B[43m,\u001B[49m\u001B[43m \u001B[49m\u001B[43mcmap\u001B[49m\u001B[38;5;241;43m=\u001B[39;49m\u001B[38;5;28;43mself\u001B[39;49m\u001B[38;5;241;43m.\u001B[39;49m\u001B[43mcmap\u001B[49m\u001B[43m,\u001B[49m\u001B[43m \u001B[49m\u001B[38;5;241;43m*\u001B[39;49m\u001B[38;5;241;43m*\u001B[39;49m\u001B[43mkws\u001B[49m\u001B[43m)\u001B[49m\n\u001B[0;32m    308\u001B[0m \u001B[38;5;66;03m# Set the axis limits\u001B[39;00m\n\u001B[0;32m    309\u001B[0m ax\u001B[38;5;241m.\u001B[39mset(xlim\u001B[38;5;241m=\u001B[39m(\u001B[38;5;241m0\u001B[39m, \u001B[38;5;28mself\u001B[39m\u001B[38;5;241m.\u001B[39mdata\u001B[38;5;241m.\u001B[39mshape[\u001B[38;5;241m1\u001B[39m]), ylim\u001B[38;5;241m=\u001B[39m(\u001B[38;5;241m0\u001B[39m, \u001B[38;5;28mself\u001B[39m\u001B[38;5;241m.\u001B[39mdata\u001B[38;5;241m.\u001B[39mshape[\u001B[38;5;241m0\u001B[39m]))\n",
      "File \u001B[1;32m~\\anaconda3\\envs\\3 lab\\lib\\site-packages\\matplotlib\\__init__.py:1442\u001B[0m, in \u001B[0;36m_preprocess_data.<locals>.inner\u001B[1;34m(ax, data, *args, **kwargs)\u001B[0m\n\u001B[0;32m   1439\u001B[0m \u001B[38;5;129m@functools\u001B[39m\u001B[38;5;241m.\u001B[39mwraps(func)\n\u001B[0;32m   1440\u001B[0m \u001B[38;5;28;01mdef\u001B[39;00m \u001B[38;5;21minner\u001B[39m(ax, \u001B[38;5;241m*\u001B[39margs, data\u001B[38;5;241m=\u001B[39m\u001B[38;5;28;01mNone\u001B[39;00m, \u001B[38;5;241m*\u001B[39m\u001B[38;5;241m*\u001B[39mkwargs):\n\u001B[0;32m   1441\u001B[0m     \u001B[38;5;28;01mif\u001B[39;00m data \u001B[38;5;129;01mis\u001B[39;00m \u001B[38;5;28;01mNone\u001B[39;00m:\n\u001B[1;32m-> 1442\u001B[0m         \u001B[38;5;28;01mreturn\u001B[39;00m \u001B[43mfunc\u001B[49m\u001B[43m(\u001B[49m\u001B[43max\u001B[49m\u001B[43m,\u001B[49m\u001B[43m \u001B[49m\u001B[38;5;241;43m*\u001B[39;49m\u001B[38;5;28;43mmap\u001B[39;49m\u001B[43m(\u001B[49m\u001B[43msanitize_sequence\u001B[49m\u001B[43m,\u001B[49m\u001B[43m \u001B[49m\u001B[43margs\u001B[49m\u001B[43m)\u001B[49m\u001B[43m,\u001B[49m\u001B[43m \u001B[49m\u001B[38;5;241;43m*\u001B[39;49m\u001B[38;5;241;43m*\u001B[39;49m\u001B[43mkwargs\u001B[49m\u001B[43m)\u001B[49m\n\u001B[0;32m   1444\u001B[0m     bound \u001B[38;5;241m=\u001B[39m new_sig\u001B[38;5;241m.\u001B[39mbind(ax, \u001B[38;5;241m*\u001B[39margs, \u001B[38;5;241m*\u001B[39m\u001B[38;5;241m*\u001B[39mkwargs)\n\u001B[0;32m   1445\u001B[0m     auto_label \u001B[38;5;241m=\u001B[39m (bound\u001B[38;5;241m.\u001B[39marguments\u001B[38;5;241m.\u001B[39mget(label_namer)\n\u001B[0;32m   1446\u001B[0m                   \u001B[38;5;129;01mor\u001B[39;00m bound\u001B[38;5;241m.\u001B[39mkwargs\u001B[38;5;241m.\u001B[39mget(label_namer))\n",
      "File \u001B[1;32m~\\anaconda3\\envs\\3 lab\\lib\\site-packages\\matplotlib\\axes\\_axes.py:6229\u001B[0m, in \u001B[0;36mAxes.pcolormesh\u001B[1;34m(self, alpha, norm, cmap, vmin, vmax, shading, antialiased, *args, **kwargs)\u001B[0m\n\u001B[0;32m   6225\u001B[0m     C \u001B[38;5;241m=\u001B[39m C\u001B[38;5;241m.\u001B[39mravel()\n\u001B[0;32m   6227\u001B[0m kwargs\u001B[38;5;241m.\u001B[39msetdefault(\u001B[38;5;124m'\u001B[39m\u001B[38;5;124msnap\u001B[39m\u001B[38;5;124m'\u001B[39m, mpl\u001B[38;5;241m.\u001B[39mrcParams[\u001B[38;5;124m'\u001B[39m\u001B[38;5;124mpcolormesh.snap\u001B[39m\u001B[38;5;124m'\u001B[39m])\n\u001B[1;32m-> 6229\u001B[0m collection \u001B[38;5;241m=\u001B[39m \u001B[43mmcoll\u001B[49m\u001B[38;5;241;43m.\u001B[39;49m\u001B[43mQuadMesh\u001B[49m\u001B[43m(\u001B[49m\n\u001B[0;32m   6230\u001B[0m \u001B[43m    \u001B[49m\u001B[43mcoords\u001B[49m\u001B[43m,\u001B[49m\u001B[43m \u001B[49m\u001B[43mantialiased\u001B[49m\u001B[38;5;241;43m=\u001B[39;49m\u001B[43mantialiased\u001B[49m\u001B[43m,\u001B[49m\u001B[43m \u001B[49m\u001B[43mshading\u001B[49m\u001B[38;5;241;43m=\u001B[39;49m\u001B[43mshading\u001B[49m\u001B[43m,\u001B[49m\n\u001B[0;32m   6231\u001B[0m \u001B[43m    \u001B[49m\u001B[43marray\u001B[49m\u001B[38;5;241;43m=\u001B[39;49m\u001B[43mC\u001B[49m\u001B[43m,\u001B[49m\u001B[43m \u001B[49m\u001B[43mcmap\u001B[49m\u001B[38;5;241;43m=\u001B[39;49m\u001B[43mcmap\u001B[49m\u001B[43m,\u001B[49m\u001B[43m \u001B[49m\u001B[43mnorm\u001B[49m\u001B[38;5;241;43m=\u001B[39;49m\u001B[43mnorm\u001B[49m\u001B[43m,\u001B[49m\u001B[43m \u001B[49m\u001B[43malpha\u001B[49m\u001B[38;5;241;43m=\u001B[39;49m\u001B[43malpha\u001B[49m\u001B[43m,\u001B[49m\u001B[43m \u001B[49m\u001B[38;5;241;43m*\u001B[39;49m\u001B[38;5;241;43m*\u001B[39;49m\u001B[43mkwargs\u001B[49m\u001B[43m)\u001B[49m\n\u001B[0;32m   6232\u001B[0m collection\u001B[38;5;241m.\u001B[39m_scale_norm(norm, vmin, vmax)\n\u001B[0;32m   6234\u001B[0m coords \u001B[38;5;241m=\u001B[39m coords\u001B[38;5;241m.\u001B[39mreshape(\u001B[38;5;241m-\u001B[39m\u001B[38;5;241m1\u001B[39m, \u001B[38;5;241m2\u001B[39m)  \u001B[38;5;66;03m# flatten the grid structure; keep x, y\u001B[39;00m\n",
      "File \u001B[1;32m~\\anaconda3\\envs\\3 lab\\lib\\site-packages\\matplotlib\\collections.py:1939\u001B[0m, in \u001B[0;36mQuadMesh.__init__\u001B[1;34m(self, coordinates, antialiased, shading, **kwargs)\u001B[0m\n\u001B[0;32m   1936\u001B[0m \u001B[38;5;28mself\u001B[39m\u001B[38;5;241m.\u001B[39m_bbox\u001B[38;5;241m.\u001B[39mupdate_from_data_xy(\u001B[38;5;28mself\u001B[39m\u001B[38;5;241m.\u001B[39m_coordinates\u001B[38;5;241m.\u001B[39mreshape(\u001B[38;5;241m-\u001B[39m\u001B[38;5;241m1\u001B[39m, \u001B[38;5;241m2\u001B[39m))\n\u001B[0;32m   1937\u001B[0m \u001B[38;5;66;03m# super init delayed after own init because array kwarg requires\u001B[39;00m\n\u001B[0;32m   1938\u001B[0m \u001B[38;5;66;03m# self._coordinates and self._shading\u001B[39;00m\n\u001B[1;32m-> 1939\u001B[0m \u001B[38;5;28;43msuper\u001B[39;49m\u001B[43m(\u001B[49m\u001B[43m)\u001B[49m\u001B[38;5;241;43m.\u001B[39;49m\u001B[38;5;21;43m__init__\u001B[39;49m\u001B[43m(\u001B[49m\u001B[38;5;241;43m*\u001B[39;49m\u001B[38;5;241;43m*\u001B[39;49m\u001B[43mkwargs\u001B[49m\u001B[43m)\u001B[49m\n\u001B[0;32m   1940\u001B[0m \u001B[38;5;28mself\u001B[39m\u001B[38;5;241m.\u001B[39mset_mouseover(\u001B[38;5;28;01mFalse\u001B[39;00m)\n",
      "File \u001B[1;32m~\\anaconda3\\envs\\3 lab\\lib\\site-packages\\matplotlib\\_api\\deprecation.py:454\u001B[0m, in \u001B[0;36mmake_keyword_only.<locals>.wrapper\u001B[1;34m(*args, **kwargs)\u001B[0m\n\u001B[0;32m    448\u001B[0m \u001B[38;5;28;01mif\u001B[39;00m \u001B[38;5;28mlen\u001B[39m(args) \u001B[38;5;241m>\u001B[39m name_idx:\n\u001B[0;32m    449\u001B[0m     warn_deprecated(\n\u001B[0;32m    450\u001B[0m         since, message\u001B[38;5;241m=\u001B[39m\u001B[38;5;124m\"\u001B[39m\u001B[38;5;124mPassing the \u001B[39m\u001B[38;5;132;01m%(name)s\u001B[39;00m\u001B[38;5;124m \u001B[39m\u001B[38;5;132;01m%(obj_type)s\u001B[39;00m\u001B[38;5;124m \u001B[39m\u001B[38;5;124m\"\u001B[39m\n\u001B[0;32m    451\u001B[0m         \u001B[38;5;124m\"\u001B[39m\u001B[38;5;124mpositionally is deprecated since Matplotlib \u001B[39m\u001B[38;5;132;01m%(since)s\u001B[39;00m\u001B[38;5;124m; the \u001B[39m\u001B[38;5;124m\"\u001B[39m\n\u001B[0;32m    452\u001B[0m         \u001B[38;5;124m\"\u001B[39m\u001B[38;5;124mparameter will become keyword-only \u001B[39m\u001B[38;5;132;01m%(removal)s\u001B[39;00m\u001B[38;5;124m.\u001B[39m\u001B[38;5;124m\"\u001B[39m,\n\u001B[0;32m    453\u001B[0m         name\u001B[38;5;241m=\u001B[39mname, obj_type\u001B[38;5;241m=\u001B[39m\u001B[38;5;124mf\u001B[39m\u001B[38;5;124m\"\u001B[39m\u001B[38;5;124mparameter of \u001B[39m\u001B[38;5;132;01m{\u001B[39;00mfunc\u001B[38;5;241m.\u001B[39m\u001B[38;5;18m__name__\u001B[39m\u001B[38;5;132;01m}\u001B[39;00m\u001B[38;5;124m()\u001B[39m\u001B[38;5;124m\"\u001B[39m)\n\u001B[1;32m--> 454\u001B[0m \u001B[38;5;28;01mreturn\u001B[39;00m \u001B[43mfunc\u001B[49m\u001B[43m(\u001B[49m\u001B[38;5;241;43m*\u001B[39;49m\u001B[43margs\u001B[49m\u001B[43m,\u001B[49m\u001B[43m \u001B[49m\u001B[38;5;241;43m*\u001B[39;49m\u001B[38;5;241;43m*\u001B[39;49m\u001B[43mkwargs\u001B[49m\u001B[43m)\u001B[49m\n",
      "File \u001B[1;32m~\\anaconda3\\envs\\3 lab\\lib\\site-packages\\matplotlib\\collections.py:201\u001B[0m, in \u001B[0;36mCollection.__init__\u001B[1;34m(self, edgecolors, facecolors, linewidths, linestyles, capstyle, joinstyle, antialiaseds, offsets, offset_transform, norm, cmap, pickradius, hatch, urls, zorder, **kwargs)\u001B[0m\n\u001B[0;32m    198\u001B[0m \u001B[38;5;28mself\u001B[39m\u001B[38;5;241m.\u001B[39m_offset_transform \u001B[38;5;241m=\u001B[39m offset_transform\n\u001B[0;32m    200\u001B[0m \u001B[38;5;28mself\u001B[39m\u001B[38;5;241m.\u001B[39m_path_effects \u001B[38;5;241m=\u001B[39m \u001B[38;5;28;01mNone\u001B[39;00m\n\u001B[1;32m--> 201\u001B[0m \u001B[38;5;28;43mself\u001B[39;49m\u001B[38;5;241;43m.\u001B[39;49m\u001B[43m_internal_update\u001B[49m\u001B[43m(\u001B[49m\u001B[43mkwargs\u001B[49m\u001B[43m)\u001B[49m\n\u001B[0;32m    202\u001B[0m \u001B[38;5;28mself\u001B[39m\u001B[38;5;241m.\u001B[39m_paths \u001B[38;5;241m=\u001B[39m \u001B[38;5;28;01mNone\u001B[39;00m\n",
      "File \u001B[1;32m~\\anaconda3\\envs\\3 lab\\lib\\site-packages\\matplotlib\\artist.py:1223\u001B[0m, in \u001B[0;36mArtist._internal_update\u001B[1;34m(self, kwargs)\u001B[0m\n\u001B[0;32m   1216\u001B[0m \u001B[38;5;28;01mdef\u001B[39;00m \u001B[38;5;21m_internal_update\u001B[39m(\u001B[38;5;28mself\u001B[39m, kwargs):\n\u001B[0;32m   1217\u001B[0m     \u001B[38;5;124;03m\"\"\"\u001B[39;00m\n\u001B[0;32m   1218\u001B[0m \u001B[38;5;124;03m    Update artist properties without prenormalizing them, but generating\u001B[39;00m\n\u001B[0;32m   1219\u001B[0m \u001B[38;5;124;03m    errors as if calling `set`.\u001B[39;00m\n\u001B[0;32m   1220\u001B[0m \n\u001B[0;32m   1221\u001B[0m \u001B[38;5;124;03m    The lack of prenormalization is to maintain backcompatibility.\u001B[39;00m\n\u001B[0;32m   1222\u001B[0m \u001B[38;5;124;03m    \"\"\"\u001B[39;00m\n\u001B[1;32m-> 1223\u001B[0m     \u001B[38;5;28;01mreturn\u001B[39;00m \u001B[38;5;28;43mself\u001B[39;49m\u001B[38;5;241;43m.\u001B[39;49m\u001B[43m_update_props\u001B[49m\u001B[43m(\u001B[49m\n\u001B[0;32m   1224\u001B[0m \u001B[43m        \u001B[49m\u001B[43mkwargs\u001B[49m\u001B[43m,\u001B[49m\u001B[43m \u001B[49m\u001B[38;5;124;43m\"\u001B[39;49m\u001B[38;5;132;43;01m{cls.__name__}\u001B[39;49;00m\u001B[38;5;124;43m.set() got an unexpected keyword argument \u001B[39;49m\u001B[38;5;124;43m\"\u001B[39;49m\n\u001B[0;32m   1225\u001B[0m \u001B[43m        \u001B[49m\u001B[38;5;124;43m\"\u001B[39;49m\u001B[38;5;132;43;01m{prop_name!r}\u001B[39;49;00m\u001B[38;5;124;43m\"\u001B[39;49m\u001B[43m)\u001B[49m\n",
      "File \u001B[1;32m~\\anaconda3\\envs\\3 lab\\lib\\site-packages\\matplotlib\\artist.py:1197\u001B[0m, in \u001B[0;36mArtist._update_props\u001B[1;34m(self, props, errfmt)\u001B[0m\n\u001B[0;32m   1195\u001B[0m             func \u001B[38;5;241m=\u001B[39m \u001B[38;5;28mgetattr\u001B[39m(\u001B[38;5;28mself\u001B[39m, \u001B[38;5;124mf\u001B[39m\u001B[38;5;124m\"\u001B[39m\u001B[38;5;124mset_\u001B[39m\u001B[38;5;132;01m{\u001B[39;00mk\u001B[38;5;132;01m}\u001B[39;00m\u001B[38;5;124m\"\u001B[39m, \u001B[38;5;28;01mNone\u001B[39;00m)\n\u001B[0;32m   1196\u001B[0m             \u001B[38;5;28;01mif\u001B[39;00m \u001B[38;5;129;01mnot\u001B[39;00m callable(func):\n\u001B[1;32m-> 1197\u001B[0m                 \u001B[38;5;28;01mraise\u001B[39;00m \u001B[38;5;167;01mAttributeError\u001B[39;00m(\n\u001B[0;32m   1198\u001B[0m                     errfmt\u001B[38;5;241m.\u001B[39mformat(\u001B[38;5;28mcls\u001B[39m\u001B[38;5;241m=\u001B[39m\u001B[38;5;28mtype\u001B[39m(\u001B[38;5;28mself\u001B[39m), prop_name\u001B[38;5;241m=\u001B[39mk))\n\u001B[0;32m   1199\u001B[0m             ret\u001B[38;5;241m.\u001B[39mappend(func(v))\n\u001B[0;32m   1200\u001B[0m \u001B[38;5;28;01mif\u001B[39;00m ret:\n",
      "\u001B[1;31mAttributeError\u001B[0m: QuadMesh.set() got an unexpected keyword argument 'aspect'"
     ]
    },
    {
     "data": {
      "text/plain": "<Figure size 640x480 with 1 Axes>",
      "image/png": "[encoded data removed]"
     },
     "metadata": {},
     "output_type": "display_data"
    }
   ],
   "source": [
    "# Создаем тепловую карту с новой цветовой схемой и аргументом aspect\n",
    "sb.heatmap(dataframe_train.corr(), cmap='coolwarm', linewidths=0.2, fmt='.1g', aspect='auto')\n",
    "\n",
    "# Добавляем заголовок и подписи осей\n",
    "plt.title('Корреляция между признаками dataframe_train')\n",
    "plt.xlabel('Признаки')\n",
    "plt.ylabel('Признаки')\n",
    "\n",
    "plt.show()"
   ],
   "metadata": {
    "collapsed": false
   }
  },
  {
   "cell_type": "code",
   "execution_count": null,
   "outputs": [],
   "source": [],
   "metadata": {
    "collapsed": false
   }
  }
 ],
 "metadata": {
  "kernelspec": {
   "display_name": "Python 3",
   "language": "python",
   "name": "python3"
  },
  "language_info": {
   "codemirror_mode": {
    "name": "ipython",
    "version": 2
   },
   "file_extension": ".py",
   "mimetype": "text/x-python",
   "name": "python",
   "nbconvert_exporter": "python",
   "pygments_lexer": "ipython2",
   "version": "2.7.6"
  }
 },
 "nbformat": 4,
 "nbformat_minor": 0
}
